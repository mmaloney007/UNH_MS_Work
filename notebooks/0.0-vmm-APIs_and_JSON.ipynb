{
 "cells": [
  {
   "cell_type": "code",
   "execution_count": 1,
   "metadata": {},
   "outputs": [],
   "source": [
    "%matplotlib inline\n",
    "import matplotlib\n",
    "import seaborn as sns\n",
    "#matplotlib.rcParams['savefig.dpi'] = 2 * matplotlib.rcParams['savefig.dpi']"
   ]
  },
  {
   "cell_type": "markdown",
   "metadata": {},
   "source": [
    "# Consuming APIs (and JSON)\n",
    "\n",
    "Consuming APIs is supposed to be easy (that's the point of having an API).  \n",
    "\n",
    "Let's look at a simple example of consuming a JSON API.  The example we'll look at is a *geocoder*: That is, a service for converting between addresses and normalized geographic information (e.g. latitude and longitude).  Going from addresses to normalized form is \"forward geocoding\" and going the other way is \"reverse geocoding\".\n",
    "\n",
    "We'll interact with a free (and non-authenticated) geocoder run by OpenStreetMap.  The geocoded information is available by sending a GET request to <tt>http:&#8203;//nominatim.openstreetmap.org/search?q=<i>address</i>&addressdetails=1&format=json</tt>.  The portion before the question mark (`http://nominatim.openstreetmap.org/search`) is the endpoint on the server, while the portion following, known as the *query string*, contains the data being sent to the server.  (Thus, a GET request can be repeated simply by requesting the same URL again.  In contrast, the data sent in a POST request is contained in the request body, not in the URL.)\n",
    "\n",
    "As is typical, the query string consists of several key=value pairs, separated by ampersands.  The requested address is specified with the `q` key in this case.  Some characters, like the spaces and commas, cannot be using in the URL, so they must be enoded with the `urllib2.quote()` function."
   ]
  },
  {
   "cell_type": "code",
   "execution_count": 2,
   "metadata": {},
   "outputs": [
    {
     "data": {
      "text/plain": [
       "'1600%20Pennsylvania%20Avenue%2C%20Washington%2C%20DC'"
      ]
     },
     "execution_count": 2,
     "metadata": {},
     "output_type": "execute_result"
    }
   ],
   "source": [
    "import urllib2\n",
    "\n",
    "address = \"1600 Pennsylvania Avenue, Washington, DC\"\n",
    "urllib2.quote(address)"
   ]
  },
  {
   "cell_type": "code",
   "execution_count": 3,
   "metadata": {},
   "outputs": [
    {
     "data": {
      "text/plain": [
       "'http://nominatim.openstreetmap.org/search?q=1600%20Pennsylvania%20Avenue%2C%20Washington%2C%20DC&addressdetails=1&format=json'"
      ]
     },
     "execution_count": 3,
     "metadata": {},
     "output_type": "execute_result"
    }
   ],
   "source": [
    "url = \"http://nominatim.openstreetmap.org/search?q=%s&addressdetails=1&format=json\" % urllib2.quote(address)\n",
    "url"
   ]
  },
  {
   "cell_type": "markdown",
   "metadata": {},
   "source": [
    "We can request this URL with the `urlopen()` function, which returns a stream we can read from."
   ]
  },
  {
   "cell_type": "code",
   "execution_count": 4,
   "metadata": {},
   "outputs": [
    {
     "data": {
      "text/plain": [
       "'[{\"place_id\":\"205726488\",\"licence\":\"Data \\xc2\\xa9 OpenStreetMap contributors, ODbL 1.0. http:\\\\/\\\\/www.openstreetmap.org\\\\/copyright\",\"osm_type\":\"way\",\"osm_id\":\"238241022\",\"boundingbox\":[\"38.8974898\",\"38.897911\",\"-77.0368541\",\"-77.0362525\"],\"lat\":\"38.8976998\",\"lon\":\"-77.0365533886228\",\"display_name\":\"White House, 1600, Pennsylvania Avenue Northwest, Washington, District of Columbia, 20500, United States of America\",\"class\":\"office\",\"type\":\"government\",\"importance\":0.91767573872961,\"address\":{\"address29\":\"White House\",\"house_number\":\"1600\",\"pedestrian\":\"Pennsylvania Avenue Northwest\",\"city\":\"Washington\",\"state\":\"District of Columbia\",\"postcode\":\"20500\",\"country\":\"United States of America\",\"country_code\":\"us\"}},{\"place_id\":\"199809710\",\"licence\":\"Data \\xc2\\xa9 OpenStreetMap contributors, ODbL 1.0. http:\\\\/\\\\/www.openstreetmap.org\\\\/copyright\",\"osm_type\":\"way\",\"osm_id\":\"238241023\",\"boundingbox\":[\"38.8973238\",\"38.8974301\",\"-77.0374623\",\"-77.0373527\"],\"lat\":\"38.8973793\",\"lon\":\"-77.0374074357536\",\"display_name\":\"The Oval Office, 1600, Pennsylvania Avenue Northwest, Washington, District of Columbia, 20006, United States of America\",\"class\":\"office\",\"type\":\"government\",\"importance\":0.73571630620192,\"address\":{\"address29\":\"The Oval Office\",\"house_number\":\"1600\",\"pedestrian\":\"Pennsylvania Avenue Northwest\",\"city\":\"Washington\",\"state\":\"District of Columbia\",\"postcode\":\"20006\",\"country\":\"United States of America\",\"country_code\":\"us\"}},{\"place_id\":\"205726484\",\"licence\":\"Data \\xc2\\xa9 OpenStreetMap contributors, ODbL 1.0. http:\\\\/\\\\/www.openstreetmap.org\\\\/copyright\",\"osm_type\":\"way\",\"osm_id\":\"238241016\",\"boundingbox\":[\"38.8973238\",\"38.8976897\",\"-77.0378225\",\"-77.0372951\"],\"lat\":\"38.8974983\",\"lon\":\"-77.0375589052579\",\"display_name\":\"The West Wing, 1600, Pennsylvania Avenue Northwest, Washington, District of Columbia, 20500, United States of America\",\"class\":\"office\",\"type\":\"government\",\"importance\":0.6614973276097,\"address\":{\"address29\":\"The West Wing\",\"house_number\":\"1600\",\"pedestrian\":\"Pennsylvania Avenue Northwest\",\"city\":\"Washington\",\"state\":\"District of Columbia\",\"postcode\":\"20500\",\"country\":\"United States of America\",\"country_code\":\"us\"}},{\"place_id\":\"205726486\",\"licence\":\"Data \\xc2\\xa9 OpenStreetMap contributors, ODbL 1.0. http:\\\\/\\\\/www.openstreetmap.org\\\\/copyright\",\"osm_type\":\"way\",\"osm_id\":\"238241018\",\"boundingbox\":[\"38.8973817\",\"38.897768\",\"-77.0357842\",\"-77.0355016\"],\"lat\":\"38.89756155\",\"lon\":\"-77.0356428619915\",\"display_name\":\"The East Wing, 1600, Pennsylvania Avenue Northwest, Washington, District of Columbia, 20500, United States of America\",\"class\":\"office\",\"type\":\"government\",\"importance\":0.60661565540093,\"address\":{\"address29\":\"The East Wing\",\"house_number\":\"1600\",\"pedestrian\":\"Pennsylvania Avenue Northwest\",\"city\":\"Washington\",\"state\":\"District of Columbia\",\"postcode\":\"20500\",\"country\":\"United States of America\",\"country_code\":\"us\"}},{\"place_id\":\"28364788\",\"licence\":\"Data \\xc2\\xa9 OpenStreetMap contributors, ODbL 1.0. http:\\\\/\\\\/www.openstreetmap.org\\\\/copyright\",\"osm_type\":\"node\",\"osm_id\":\"2633633933\",\"boundingbox\":[\"38.897668\",\"38.897768\",\"-77.0365981\",\"-77.0364981\"],\"lat\":\"38.897718\",\"lon\":\"-77.0365481\",\"display_name\":\"1600, Pennsylvania Avenue Northwest, Washington, District of Columbia, 20006, United States of America\",\"class\":\"man_made\",\"type\":\"flagpole\",\"importance\":0.311,\"address\":{\"house_number\":\"1600\",\"pedestrian\":\"Pennsylvania Avenue Northwest\",\"city\":\"Washington\",\"state\":\"District of Columbia\",\"postcode\":\"20006\",\"country\":\"United States of America\",\"country_code\":\"us\"}},{\"place_id\":\"155673897\",\"licence\":\"Data \\xc2\\xa9 OpenStreetMap contributors, ODbL 1.0. http:\\\\/\\\\/www.openstreetmap.org\\\\/copyright\",\"osm_type\":\"way\",\"osm_id\":\"432096036\",\"boundingbox\":[\"38.8790168\",\"38.879436\",\"-76.9824941\",\"-76.9815744\"],\"lat\":\"38.87922555\",\"lon\":\"-76.9819500245811\",\"display_name\":\"1600, Pennsylvania Avenue Southeast, Hill East, Washington, District of Columbia, 20003, United States of America\",\"class\":\"building\",\"type\":\"yes\",\"importance\":0.311,\"address\":{\"house_number\":\"1600\",\"road\":\"Pennsylvania Avenue Southeast\",\"neighbourhood\":\"Hill East\",\"city\":\"Washington\",\"state\":\"District of Columbia\",\"postcode\":\"20003\",\"country\":\"United States of America\",\"country_code\":\"us\"}}]'"
      ]
     },
     "execution_count": 4,
     "metadata": {},
     "output_type": "execute_result"
    }
   ],
   "source": [
    "data = urllib2.urlopen(url).read()\n",
    "data"
   ]
  },
  {
   "cell_type": "markdown",
   "metadata": {},
   "source": [
    "The result was returned to us in the form of JSON. JSON is JavaScript Object Notation&mdash;it's a human readable text-based format for transmitting key-value pairs (and strings, numbers, and arrays). The json package lets us convert between this and Python's native dictionaries, etc."
   ]
  },
  {
   "cell_type": "code",
   "execution_count": 5,
   "metadata": {},
   "outputs": [
    {
     "data": {
      "text/plain": [
       "[{'address': {'address29': 'White House',\n",
       "   'city': 'Washington',\n",
       "   'country': 'United States of America',\n",
       "   'country_code': 'us',\n",
       "   'house_number': '1600',\n",
       "   'pedestrian': 'Pennsylvania Avenue Northwest',\n",
       "   'postcode': '20500',\n",
       "   'state': 'District of Columbia'},\n",
       "  'boundingbox': ['38.8974898', '38.897911', '-77.0368541', '-77.0362525'],\n",
       "  'class': 'office',\n",
       "  'display_name': 'White House, 1600, Pennsylvania Avenue Northwest, Washington, District of Columbia, 20500, United States of America',\n",
       "  'importance': 0.91767573872961,\n",
       "  'lat': '38.8976998',\n",
       "  'licence': u'Data \\xa9 OpenStreetMap contributors, ODbL 1.0. http://www.openstreetmap.org/copyright',\n",
       "  'lon': '-77.0365533886228',\n",
       "  'osm_id': '238241022',\n",
       "  'osm_type': 'way',\n",
       "  'place_id': '205726488',\n",
       "  'type': 'government'},\n",
       " {'address': {'address29': 'The Oval Office',\n",
       "   'city': 'Washington',\n",
       "   'country': 'United States of America',\n",
       "   'country_code': 'us',\n",
       "   'house_number': '1600',\n",
       "   'pedestrian': 'Pennsylvania Avenue Northwest',\n",
       "   'postcode': '20006',\n",
       "   'state': 'District of Columbia'},\n",
       "  'boundingbox': ['38.8973238', '38.8974301', '-77.0374623', '-77.0373527'],\n",
       "  'class': 'office',\n",
       "  'display_name': 'The Oval Office, 1600, Pennsylvania Avenue Northwest, Washington, District of Columbia, 20006, United States of America',\n",
       "  'importance': 0.73571630620192,\n",
       "  'lat': '38.8973793',\n",
       "  'licence': u'Data \\xa9 OpenStreetMap contributors, ODbL 1.0. http://www.openstreetmap.org/copyright',\n",
       "  'lon': '-77.0374074357536',\n",
       "  'osm_id': '238241023',\n",
       "  'osm_type': 'way',\n",
       "  'place_id': '199809710',\n",
       "  'type': 'government'},\n",
       " {'address': {'address29': 'The West Wing',\n",
       "   'city': 'Washington',\n",
       "   'country': 'United States of America',\n",
       "   'country_code': 'us',\n",
       "   'house_number': '1600',\n",
       "   'pedestrian': 'Pennsylvania Avenue Northwest',\n",
       "   'postcode': '20500',\n",
       "   'state': 'District of Columbia'},\n",
       "  'boundingbox': ['38.8973238', '38.8976897', '-77.0378225', '-77.0372951'],\n",
       "  'class': 'office',\n",
       "  'display_name': 'The West Wing, 1600, Pennsylvania Avenue Northwest, Washington, District of Columbia, 20500, United States of America',\n",
       "  'importance': 0.6614973276097,\n",
       "  'lat': '38.8974983',\n",
       "  'licence': u'Data \\xa9 OpenStreetMap contributors, ODbL 1.0. http://www.openstreetmap.org/copyright',\n",
       "  'lon': '-77.0375589052579',\n",
       "  'osm_id': '238241016',\n",
       "  'osm_type': 'way',\n",
       "  'place_id': '205726484',\n",
       "  'type': 'government'},\n",
       " {'address': {'address29': 'The East Wing',\n",
       "   'city': 'Washington',\n",
       "   'country': 'United States of America',\n",
       "   'country_code': 'us',\n",
       "   'house_number': '1600',\n",
       "   'pedestrian': 'Pennsylvania Avenue Northwest',\n",
       "   'postcode': '20500',\n",
       "   'state': 'District of Columbia'},\n",
       "  'boundingbox': ['38.8973817', '38.897768', '-77.0357842', '-77.0355016'],\n",
       "  'class': 'office',\n",
       "  'display_name': 'The East Wing, 1600, Pennsylvania Avenue Northwest, Washington, District of Columbia, 20500, United States of America',\n",
       "  'importance': 0.60661565540093,\n",
       "  'lat': '38.89756155',\n",
       "  'licence': u'Data \\xa9 OpenStreetMap contributors, ODbL 1.0. http://www.openstreetmap.org/copyright',\n",
       "  'lon': '-77.0356428619915',\n",
       "  'osm_id': '238241018',\n",
       "  'osm_type': 'way',\n",
       "  'place_id': '205726486',\n",
       "  'type': 'government'},\n",
       " {'address': {'city': 'Washington',\n",
       "   'country': 'United States of America',\n",
       "   'country_code': 'us',\n",
       "   'house_number': '1600',\n",
       "   'pedestrian': 'Pennsylvania Avenue Northwest',\n",
       "   'postcode': '20006',\n",
       "   'state': 'District of Columbia'},\n",
       "  'boundingbox': ['38.897668', '38.897768', '-77.0365981', '-77.0364981'],\n",
       "  'class': 'man_made',\n",
       "  'display_name': '1600, Pennsylvania Avenue Northwest, Washington, District of Columbia, 20006, United States of America',\n",
       "  'importance': 0.311,\n",
       "  'lat': '38.897718',\n",
       "  'licence': u'Data \\xa9 OpenStreetMap contributors, ODbL 1.0. http://www.openstreetmap.org/copyright',\n",
       "  'lon': '-77.0365481',\n",
       "  'osm_id': '2633633933',\n",
       "  'osm_type': 'node',\n",
       "  'place_id': '28364788',\n",
       "  'type': 'flagpole'},\n",
       " {'address': {'city': 'Washington',\n",
       "   'country': 'United States of America',\n",
       "   'country_code': 'us',\n",
       "   'house_number': '1600',\n",
       "   'neighbourhood': 'Hill East',\n",
       "   'postcode': '20003',\n",
       "   'road': 'Pennsylvania Avenue Southeast',\n",
       "   'state': 'District of Columbia'},\n",
       "  'boundingbox': ['38.8790168', '38.879436', '-76.9824941', '-76.9815744'],\n",
       "  'class': 'building',\n",
       "  'display_name': '1600, Pennsylvania Avenue Southeast, Hill East, Washington, District of Columbia, 20003, United States of America',\n",
       "  'importance': 0.311,\n",
       "  'lat': '38.87922555',\n",
       "  'licence': u'Data \\xa9 OpenStreetMap contributors, ODbL 1.0. http://www.openstreetmap.org/copyright',\n",
       "  'lon': '-76.9819500245811',\n",
       "  'osm_id': '432096036',\n",
       "  'osm_type': 'way',\n",
       "  'place_id': '155673897',\n",
       "  'type': 'yes'}]"
      ]
     },
     "execution_count": 5,
     "metadata": {},
     "output_type": "execute_result"
    }
   ],
   "source": [
    "import simplejson as json\n",
    "\n",
    "json.loads(data)"
   ]
  },
  {
   "cell_type": "code",
   "execution_count": 6,
   "metadata": {},
   "outputs": [
    {
     "data": {
      "text/plain": [
       "['38.8974898', '38.897911', '-77.0368541', '-77.0362525']"
      ]
     },
     "execution_count": 6,
     "metadata": {},
     "output_type": "execute_result"
    }
   ],
   "source": [
    "json.loads(data)[0]['boundingbox']"
   ]
  },
  {
   "cell_type": "markdown",
   "metadata": {},
   "source": [
    "Note that this was a public API, with no authentication.  We'll go through an example of the code for an authenticated API at the end -- the example will be the free Twitter stream.  (The reason we didn't do this up front is that you can't run the code without signing up for an API key, etc.)"
   ]
  },
  {
   "cell_type": "markdown",
   "metadata": {},
   "source": [
    "## Handling URL parameters\n",
    "\n",
    "`urllib2` module requires an enormous amount of work to perform the simplest of tasks. The `requests` library provides a higher-level way to do web requests. This is already nice in examples, like the above, where we need to encode parameters into the URL.  It is even more convenient when there are also `POST` parameters (or cookies, or authentication, or...) involved.  (Don't worry if you don't know what that means.)"
   ]
  },
  {
   "cell_type": "code",
   "execution_count": 7,
   "metadata": {},
   "outputs": [],
   "source": [
    "import requests\n",
    "def geocode(address):\n",
    "    params = { 'format'        :'json', \n",
    "               'addressdetails': 1, \n",
    "               'q'             : address}\n",
    "    return requests.get('http://nominatim.openstreetmap.org/search', params=params)\n",
    "\n",
    "response = geocode(\"107 Page St., San Francisco\")"
   ]
  },
  {
   "cell_type": "markdown",
   "metadata": {},
   "source": [
    "The parameters are automatically encoded and assembled into the query string."
   ]
  },
  {
   "cell_type": "code",
   "execution_count": 8,
   "metadata": {},
   "outputs": [
    {
     "data": {
      "text/plain": [
       "u'http://nominatim.openstreetmap.org/search?q=107+Page+St.%2C+San+Francisco&addressdetails=1&format=json'"
      ]
     },
     "execution_count": 8,
     "metadata": {},
     "output_type": "execute_result"
    }
   ],
   "source": [
    "response.url"
   ]
  },
  {
   "cell_type": "markdown",
   "metadata": {},
   "source": [
    "The raw response is available..."
   ]
  },
  {
   "cell_type": "code",
   "execution_count": 9,
   "metadata": {},
   "outputs": [
    {
     "data": {
      "text/plain": [
       "u'[{\"place_id\":\"164709909\",\"licence\":\"Data \\xa9 OpenStreetMap contributors, ODbL 1.0. http:\\\\/\\\\/www.openstreetmap.org\\\\/copyright\",\"osm_type\":\"way\",\"osm_id\":\"32121427\",\"boundingbox\":[\"37.773928208333\",\"37.774028208333\",\"-122.42263933333\",\"-122.42253933333\"],\"lat\":\"37.7739782083333\",\"lon\":\"-122.422589333333\",\"display_name\":\"107, Page Street, Hayes Valley, SF, California, 94102, United States of America\",\"class\":\"place\",\"type\":\"house\",\"importance\":0.201,\"address\":{\"house_number\":\"107\",\"road\":\"Page Street\",\"neighbourhood\":\"Hayes Valley\",\"city\":\"SF\",\"county\":\"SF\",\"state\":\"California\",\"postcode\":\"94102\",\"country\":\"United States of America\",\"country_code\":\"us\"}}]'"
      ]
     },
     "execution_count": 9,
     "metadata": {},
     "output_type": "execute_result"
    }
   ],
   "source": [
    "response.text"
   ]
  },
  {
   "cell_type": "markdown",
   "metadata": {},
   "source": [
    "...but it can also be converted to JSON."
   ]
  },
  {
   "cell_type": "code",
   "execution_count": 10,
   "metadata": {},
   "outputs": [
    {
     "data": {
      "text/plain": [
       "[{u'address': {u'city': u'SF',\n",
       "   u'country': u'United States of America',\n",
       "   u'country_code': u'us',\n",
       "   u'county': u'SF',\n",
       "   u'house_number': u'107',\n",
       "   u'neighbourhood': u'Hayes Valley',\n",
       "   u'postcode': u'94102',\n",
       "   u'road': u'Page Street',\n",
       "   u'state': u'California'},\n",
       "  u'boundingbox': [u'37.773928208333',\n",
       "   u'37.774028208333',\n",
       "   u'-122.42263933333',\n",
       "   u'-122.42253933333'],\n",
       "  u'class': u'place',\n",
       "  u'display_name': u'107, Page Street, Hayes Valley, SF, California, 94102, United States of America',\n",
       "  u'importance': 0.201,\n",
       "  u'lat': u'37.7739782083333',\n",
       "  u'licence': u'Data \\xa9 OpenStreetMap contributors, ODbL 1.0. http://www.openstreetmap.org/copyright',\n",
       "  u'lon': u'-122.422589333333',\n",
       "  u'osm_id': u'32121427',\n",
       "  u'osm_type': u'way',\n",
       "  u'place_id': u'164709909',\n",
       "  u'type': u'house'}]"
      ]
     },
     "execution_count": 10,
     "metadata": {},
     "output_type": "execute_result"
    }
   ],
   "source": [
    "response.json()"
   ]
  },
  {
   "cell_type": "code",
   "execution_count": 11,
   "metadata": {},
   "outputs": [
    {
     "data": {
      "text/plain": [
       "[u'37.773928208333',\n",
       " u'37.774028208333',\n",
       " u'-122.42263933333',\n",
       " u'-122.42253933333']"
      ]
     },
     "execution_count": 11,
     "metadata": {},
     "output_type": "execute_result"
    }
   ],
   "source": [
    "response.json()[0]['boundingbox']"
   ]
  },
  {
   "cell_type": "markdown",
   "metadata": {},
   "source": [
    "**Exercise:** The National Weather Service operates a free API for weather information.  A sample request looks like this: `http://forecast.weather.gov/MapClick.php?lat=37.7739&lon=-122.4225&FcstType=json`.\n",
    "\n",
    "Use the geocoder to write a function\n",
    "\n",
    "        def weather_at_address(address):\n",
    "            ....\n",
    "            \n",
    "that gets the current weather (temperature, cloudy or not) from a human-entered address."
   ]
  },
  {
   "cell_type": "markdown",
   "metadata": {},
   "source": [
    "## Authenticated APIs\n",
    "\n",
    "Lots of interesting APIs are free (or at least free for moderate use) but still require you to register first.  The `requests` library (together with some supporting ones, e.g. `requests_oauthlib`) make it easy to consume these too.\n",
    "\n",
    "**Exercise:** In order to access the Twitter API, you must first sign up: create an app on http://apps.twitter.com, get an access token, et voila, you have your shiny new credentials -- consisting of four pieces of data. The file /secrets/twitter_secrets.json.sample in the datacourse repo has the format template; then rename the file to have a .nogit extension to prevent it being tracked in the repository."
   ]
  },
  {
   "cell_type": "code",
   "execution_count": 12,
   "metadata": {},
   "outputs": [
    {
     "ename": "IOError",
     "evalue": "[Errno 2] No such file or directory: '/Users/maloney/maloney_old/code/vagrant/datacourse/module1/secrets/twitter_secrets.json.sample'",
     "output_type": "error",
     "traceback": [
      "\u001b[0;31m---------------------------------------------------------------------------\u001b[0m",
      "\u001b[0;31mIOError\u001b[0m                                   Traceback (most recent call last)",
      "\u001b[0;32m<ipython-input-12-681123abd827>\u001b[0m in \u001b[0;36m<module>\u001b[0;34m()\u001b[0m\n\u001b[1;32m      1\u001b[0m \u001b[0;32mfrom\u001b[0m \u001b[0mrequests_oauthlib\u001b[0m \u001b[0;32mimport\u001b[0m \u001b[0mOAuth1\u001b[0m\u001b[0;34m\u001b[0m\u001b[0m\n\u001b[1;32m      2\u001b[0m \u001b[0;34m\u001b[0m\u001b[0m\n\u001b[0;32m----> 3\u001b[0;31m \u001b[0;32mwith\u001b[0m \u001b[0mopen\u001b[0m\u001b[0;34m(\u001b[0m\u001b[0;34m\"/Users/maloney/maloney_old/code/vagrant/datacourse/module1/secrets/twitter_secrets.json.sample\"\u001b[0m\u001b[0;34m)\u001b[0m \u001b[0;32mas\u001b[0m \u001b[0mfh\u001b[0m\u001b[0;34m:\u001b[0m\u001b[0;34m\u001b[0m\u001b[0m\n\u001b[0m\u001b[1;32m      4\u001b[0m     \u001b[0msecrets\u001b[0m \u001b[0;34m=\u001b[0m \u001b[0mjson\u001b[0m\u001b[0;34m.\u001b[0m\u001b[0mloads\u001b[0m\u001b[0;34m(\u001b[0m\u001b[0mfh\u001b[0m\u001b[0;34m.\u001b[0m\u001b[0mread\u001b[0m\u001b[0;34m(\u001b[0m\u001b[0;34m)\u001b[0m\u001b[0;34m)\u001b[0m\u001b[0;34m\u001b[0m\u001b[0m\n\u001b[1;32m      5\u001b[0m \u001b[0;34m\u001b[0m\u001b[0m\n",
      "\u001b[0;31mIOError\u001b[0m: [Errno 2] No such file or directory: '/Users/maloney/maloney_old/code/vagrant/datacourse/module1/secrets/twitter_secrets.json.sample'"
     ]
    }
   ],
   "source": [
    "from requests_oauthlib import OAuth1\n",
    "\n",
    "with open(\"/Users/maloney/maloney_old/code/vagrant/datacourse/module1/secrets/twitter_secrets.json.sample\") as fh:\n",
    "    secrets = json.loads(fh.read())\n",
    "\n",
    "# create an auth object\n",
    "auth = OAuth1(\n",
    "    secrets[\"api_key\"],\n",
    "    secrets[\"api_secret\"],\n",
    "    secrets[\"access_token\"],\n",
    "    secrets[\"access_token_secret\"]\n",
    ")"
   ]
  },
  {
   "cell_type": "markdown",
   "metadata": {},
   "source": [
    "Let's see all of Michael's friends."
   ]
  },
  {
   "cell_type": "code",
   "execution_count": null,
   "metadata": {},
   "outputs": [],
   "source": [
    "r = requests.get(\n",
    "    \"https://api.twitter.com/1.1/friends/ids.json\",\n",
    "    auth=auth,\n",
    "    params={'screen_name' : 'tianhuil'}\n",
    ")\n",
    "michaels_friends=r.json()\n",
    "\n",
    "r2 = requests.post(\n",
    "    'https://api.twitter.com/1.1/users/lookup.json',\n",
    "    auth=auth,\n",
    "    data={'user_id' : michaels_friends['ids'][:50]}\n",
    ")\n",
    "friends_info = r2.json()\n",
    "[(f['screen_name'], f['name']) for f in friends_info]"
   ]
  },
  {
   "cell_type": "markdown",
   "metadata": {},
   "source": [
    "Requests also makes it easy to deal with simple streaming APIs.  Let's stream 100 tweets from the Twitter feed."
   ]
  },
  {
   "cell_type": "code",
   "execution_count": null,
   "metadata": {},
   "outputs": [],
   "source": [
    "import sys\n",
    "r_stream = requests.get('https://stream.twitter.com/1.1/statuses/sample.json', auth=auth, stream=True)\n",
    "counter = 0\n",
    "for line in r_stream.iter_lines():\n",
    "    # filter out keep-alive new lines\n",
    "    if not line:\n",
    "        continue\n",
    "    tweet = json.loads(line)\n",
    "    if 'text' in tweet:\n",
    "        counter +=1\n",
    "        print tweet['text']\n",
    "    sys.stdout.flush()\n",
    "    if counter > 100:\n",
    "        break"
   ]
  },
  {
   "cell_type": "markdown",
   "metadata": {},
   "source": [
    "We can restrict the location to be more-likely to get English-language tweets."
   ]
  },
  {
   "cell_type": "code",
   "execution_count": null,
   "metadata": {
    "scrolled": true
   },
   "outputs": [],
   "source": [
    "from itertools import islice  # Question: what does islice do?\n",
    "\n",
    "r_stream = requests.post('https://stream.twitter.com/1.1/statuses/filter.json', auth=auth,\n",
    "                          stream=True, data={\"locations\" : \"-125,23,-70,50\"} )\n",
    "for line in islice(r_stream.iter_lines(), 100):\n",
    "    # filter out keep-alive new lines\n",
    "    if not line:\n",
    "        continue\n",
    "    tweet = json.loads(line)\n",
    "    if 'text' in tweet:\n",
    "        print tweet['text']\n",
    "    sys.stdout.flush()"
   ]
  },
  {
   "cell_type": "markdown",
   "metadata": {},
   "source": [
    "## API Request Limitations\n",
    "\n",
    "Some Authenticated APIs have hard limits on the total number of requests that can be made by one user in one day. An API service that uses a Fremium or Paid service model will enforce a limit so they can encourage high-volume users to pay for better data access. API providers also do this to force software developers to be disciplined and thoughtful in their use of the API service.\n",
    "\n",
    "All APIs might have soft limits based on some ambiguous definition of excessive use. Google, for example, will block your IP address if you make too many requests to their services too quickly. Presumably this is done with a machine learning algorithm built specifically for this purpose. Bloomberg has a Python API associated with their desktop terminal application. They will revoke access if you exceed daily or monthly hard limits, but unfortunately specifics of those limits are not shared with any of their users.\n",
    "\n",
    "These limits create challenges for the cost-conscious data scientist. Happily, Python has tools to help. One of them is the [ediblepickle](https://pypi.python.org/pypi/ediblepickle/1.1.3) package. This package provides a  convenient facility for caching the results of function calls. This can help prevent unnecessary duplicate requests to an API.\n",
    "\n",
    "In the below example, the previous `geocode` function is modified with ediblepickle's `checkpoint` decorator. It wraps the `geocode2` function with additional functionality to cache the results of the first function call in a pickle file. The results are stored in a filename that is dependent on the function arguments.\n",
    "\n",
    "If this function is called a second time with the same function arguments, the `checkpoint` decorator will intercept the call and retrieve the results from the cached pickle file.\n",
    "\n",
    "It is important that the filename be valid filename that is unique to the function parameters. In this example, we use `urllib2.quote` to escape characters and generate a proper filename."
   ]
  },
  {
   "cell_type": "code",
   "execution_count": null,
   "metadata": {},
   "outputs": [],
   "source": [
    "from ediblepickle import checkpoint\n",
    "import os\n",
    "\n",
    "cache_dir = 'cache'\n",
    "if not os.path.exists(cache_dir):\n",
    "    os.mkdir(cache_dir)\n",
    "\n",
    "@checkpoint(key=lambda args, kwargs: urllib2.quote(args[0]) + '.p', work_dir=cache_dir)\n",
    "def geocode2(address):\n",
    "    params = { 'format'        :'json', \n",
    "               'addressdetails': 1, \n",
    "               'q'             : address}\n",
    "    print 'making API request...'\n",
    "    result = requests.get('http://nominatim.openstreetmap.org/search', params=params)\n",
    "    print 'API request complete.'\n",
    "    return result\n",
    "    \n",
    "address = \"City Hall Park, New York, NY 10007\""
   ]
  },
  {
   "cell_type": "code",
   "execution_count": null,
   "metadata": {},
   "outputs": [],
   "source": [
    "%%time\n",
    "\n",
    "# this created the cached file. observe the creation of a new pickle file in the cache directory.\n",
    "response = geocode2(address)\n",
    "print response.json()"
   ]
  },
  {
   "cell_type": "code",
   "execution_count": null,
   "metadata": {},
   "outputs": [],
   "source": [
    "%%time\n",
    "\n",
    "# this reads the cached file. observe that this executes ~100x faster.\n",
    "# the print statements in the geocode2 function do not appear because the function itself is not executed at all.\n",
    "response = geocode2(address)\n",
    "print response.json()"
   ]
  },
  {
   "cell_type": "markdown",
   "metadata": {},
   "source": [
    "### Further reading for this lecture\n",
    "\n",
    "To learn more about JSON (there isn't much more to know!):\n",
    " - http://www.secretgeek.net/json_3mins.asp\n",
    " - http://en.wikipedia.org/wiki/JSON (esp. \"Data types, syntax, and examples\")\n",
    " - http://tools.ietf.org/html/rfc7159\n",
    "\n",
    "A useful tool for playing with JSON on the command line is [jq](http://stedolan.github.io/jq/).\n",
    "\n",
    "To learn more about about the prevailing design pattern (\"REST\") for web-based APIs:\n",
    " - http://en.wikipedia.org/wiki/Representational_state_transfer\n",
    " \n",
    "One wildcard is the wide variety of authentication strategies employed (\"basic auth\", cookies, bearer token, OAuth, OAuth 2, etc.).  For several of these, the documentation at http://docs.python-requests.org/en/latest/user/authentication/ is helpful."
   ]
  }
 ],
 "metadata": {
  "anaconda-cloud": {},
  "kernelspec": {
   "display_name": "Python 3",
   "language": "python",
   "name": "python3"
  },
  "language_info": {
   "codemirror_mode": {
    "name": "ipython",
    "version": 3
   },
   "file_extension": ".py",
   "mimetype": "text/x-python",
   "name": "python",
   "nbconvert_exporter": "python",
   "pygments_lexer": "ipython3",
   "version": "3.6.8"
  }
 },
 "nbformat": 4,
 "nbformat_minor": 1
}
