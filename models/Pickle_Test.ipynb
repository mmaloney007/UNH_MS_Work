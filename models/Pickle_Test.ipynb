{
 "cells": [
  {
   "cell_type": "code",
   "execution_count": 3,
   "metadata": {},
   "outputs": [],
   "source": [
    "#Extracted code from modeling page\n",
    "#Serving as a template for picking future models\n",
    "#this one is pickling the logistic regression model \n",
    "\n",
    "\n",
    "\n",
    "def Average(accuracy_results): \n",
    "    return sum(accuracy_results) / len(accuracy_results) \n",
    "\n",
    "random_seeds = list(np.random.randint(100000, size=50))\n",
    "\n",
    "accuracy_results = []\n",
    "\n",
    "for i in random_seeds:\n",
    "    X_train, X_test, y_train, y_test = train_test_split(X, y, test_size=0.15, random_state=i)\n",
    "    \n",
    "   \n",
    "    logreg = LogisticRegression()\n",
    "    logreg.fit(X_train, y_train)\n",
    "\n",
    " #pickling the above model\n",
    "\n",
    "a = logreg.fit(X_train, y_train)\n",
    "    \n",
    "with open('logistic.pickle', 'wb') as handle:\n",
    "   pickle.dump(a, handle, protocol=pickle.HIGHEST_PROTOCOL)   \n",
    "\n",
    "#loading in pickle, this can be outdone of source page to quickly transer over past train and test data\n",
    "\n",
    "with open('logistic.pickle', 'rb') as handle:\n",
    "   b = pickle.load(handle)   \n",
    "    \n",
    "    "
   ]
  }
 ],
 "metadata": {
  "kernelspec": {
   "display_name": "Python 3",
   "language": "python",
   "name": "python3"
  },
  "language_info": {
   "codemirror_mode": {
    "name": "ipython",
    "version": 3
   },
   "file_extension": ".py",
   "mimetype": "text/x-python",
   "name": "python",
   "nbconvert_exporter": "python",
   "pygments_lexer": "ipython3",
   "version": "3.6.4"
  }
 },
 "nbformat": 4,
 "nbformat_minor": 2
}
