{
 "cells": [
  {
   "cell_type": "code",
   "execution_count": 120,
   "metadata": {},
   "outputs": [],
   "source": [
    "import os\n",
    "import pandas as pd\n",
    "\n",
    "\n",
    "#import dependencies \n",
    "import pandas as pd\n",
    "import numpy as np\n",
    "import datetime\n",
    "import seaborn as sns\n",
    "import matplotlib.pyplot as plt\n",
    "from scipy import stats\n",
    "\n",
    "import random\n",
    "\n",
    "import os\n",
    "\n",
    "from sklearn.feature_selection import RFE \n",
    "from sklearn.linear_model import LogisticRegression\n",
    "from sklearn.model_selection import train_test_split\n",
    "import statsmodels.api as sm\n",
    "\n",
    "import sklearn\n",
    "from sklearn.model_selection import train_test_split\n",
    "from sklearn.neighbors import KNeighborsClassifier\n",
    "from sklearn import tree\n",
    "from sklearn.metrics import mean_squared_error\n",
    "from sklearn.metrics import r2_score\n",
    "from sklearn.ensemble import RandomForestRegressor,  GradientBoostingRegressor\n",
    "from sklearn.preprocessing import LabelEncoder\n",
    "from sklearn.model_selection import KFold, cross_val_score, train_test_split\n",
    "from sklearn.preprocessing import StandardScaler, RobustScaler\n",
    "from sklearn.decomposition import PCA\n",
    "from sklearn.svm import LinearSVC\n",
    "from sklearn.svm import SVC\n",
    "from sklearn.model_selection import StratifiedKFold, GridSearchCV, cross_val_score\n",
    "from sklearn.ensemble import RandomForestClassifier,GradientBoostingClassifier\n",
    "from sklearn.metrics import confusion_matrix\n",
    "from collections import Counter\n",
    "from sklearn.metrics import accuracy_score\n",
    "from sklearn.metrics import accuracy_score\n",
    "from sklearn.metrics import precision_recall_fscore_support as score\n",
    "from sklearn.model_selection import KFold, cross_val_score, train_test_split\n",
    "\n",
    "import warnings\n",
    "warnings.filterwarnings(\"ignore\", category=DeprecationWarning)\n",
    "\n",
    "\n",
    "\n",
    "#import dependencies \n",
    "import pandas as pd\n",
    "import numpy as np\n",
    "import datetime\n",
    "import seaborn as sns\n",
    "import matplotlib.pyplot as plt\n",
    "from scipy import stats\n",
    "\n",
    "import os\n",
    "\n",
    "from sklearn import preprocessing\n",
    "\n",
    "import sklearn\n",
    "from sklearn.model_selection import train_test_split\n",
    "from sklearn.neighbors import KNeighborsClassifier\n",
    "from sklearn import tree\n",
    "from sklearn.metrics import mean_squared_error\n",
    "from sklearn.metrics import r2_score\n",
    "from sklearn.ensemble import RandomForestRegressor,  GradientBoostingRegressor\n",
    "from sklearn.preprocessing import LabelEncoder\n",
    "from sklearn.model_selection import KFold, cross_val_score, train_test_split\n",
    "from sklearn.preprocessing import StandardScaler, RobustScaler\n",
    "from sklearn.decomposition import PCA\n",
    "from sklearn.svm import LinearSVC\n",
    "from sklearn.svm import SVC\n",
    "from sklearn.model_selection import StratifiedKFold, GridSearchCV, cross_val_score\n",
    "from sklearn.ensemble import RandomForestClassifier,GradientBoostingClassifier\n",
    "from sklearn.metrics import confusion_matrix\n",
    "from collections import Counter\n",
    "from sklearn.metrics import accuracy_score\n",
    "from sklearn.metrics import accuracy_score\n",
    "from sklearn.metrics import precision_recall_fscore_support as score\n",
    "from sklearn.model_selection import KFold, cross_val_score, train_test_split\n",
    "\n",
    "import numpy\n",
    "import pandas\n",
    "from keras.models import Sequential\n",
    "from keras.layers import Dense\n",
    "from keras.wrappers.scikit_learn import KerasClassifier\n",
    "from keras.utils import np_utils\n",
    "from sklearn.model_selection import cross_val_score\n",
    "from sklearn.model_selection import KFold\n",
    "from sklearn.preprocessing import LabelEncoder\n",
    "from sklearn.pipeline import Pipeline\n",
    "\n",
    "from sklearn.datasets import make_moons\n",
    "from keras.models import Sequential\n",
    "from keras.layers import Dense\n",
    "from keras.callbacks import EarlyStopping\n",
    "from matplotlib import pyplot\n",
    "\n",
    "from keras.layers import Dropout\n",
    "\n",
    "from keras.layers import LeakyReLU\n",
    "\n",
    "import warnings\n",
    "warnings.filterwarnings(\"ignore\", category=DeprecationWarning)\n",
    "warnings.filterwarnings(\"ignore\", category=DeprecationWarning)\n",
    "\n",
    "from sklearn.exceptions import DataConversionWarning\n",
    "warnings.filterwarnings(action='ignore', category=DataConversionWarning)\n",
    "\n",
    "with warnings.catch_warnings():\n",
    "    warnings.simplefilter(\"ignore\")\n",
    "\n",
    "import warnings\n",
    "warnings.simplefilter(action='ignore', category=FutureWarning)    \n",
    "    \n",
    "\n",
    "from sklearn.linear_model import RidgeClassifier\n",
    "from sklearn.linear_model import Lasso\n",
    "\n",
    "pd.set_option('display.max_columns', None)\n",
    "\n",
    "\n",
    "# set working directory\n",
    "os.chdir('/Users/Nick/Downloads')\n",
    "\n",
    "vermont = pd.read_csv('cases_df.csv')"
   ]
  },
  {
   "cell_type": "markdown",
   "metadata": {},
   "source": [
    "### Keep certain columns"
   ]
  },
  {
   "cell_type": "code",
   "execution_count": 121,
   "metadata": {},
   "outputs": [],
   "source": [
    "vermont.head()\n",
    "\n",
    "vermont = vermont[['decision_date','court_name', 'defendant', 'defendants_attorneys', 'judges', 'jurisdiction_id', 'plaintiff', 'plaintiff_attorneys']]\n",
    "vermont = vermont.sort_values(by='decision_date', ascending=False)"
   ]
  },
  {
   "cell_type": "markdown",
   "metadata": {},
   "source": [
    "### Format the decision date and make year column"
   ]
  },
  {
   "cell_type": "code",
   "execution_count": 123,
   "metadata": {},
   "outputs": [],
   "source": [
    "vermont['decision_date'] =  pd.to_datetime(vermont['decision_date'], format='%Y-%m-%d')\n",
    "vermont['year'] = pd.DatetimeIndex(vermont['decision_date']).year\n",
    "\n",
    "vermont = vermont.query('year >= 2000')\n",
    "# traffic = avant.query(\"Wind_Angle > 30 & Wind_Angle_Prev > 30 & abs(Wind_Angle_Diff) > 50\") #& abs(Wind_Speed_Diff) > 5 "
   ]
  },
  {
   "cell_type": "code",
   "execution_count": 124,
   "metadata": {},
   "outputs": [
    {
     "data": {
      "text/plain": [
       "\"['Present: Reiber, CJ., Dooley, Skoglund, Robinson and Eaton, JJ.']\""
      ]
     },
     "execution_count": 124,
     "metadata": {},
     "output_type": "execute_result"
    }
   ],
   "source": [
    "vermont['judges'][18078]"
   ]
  },
  {
   "cell_type": "markdown",
   "metadata": {},
   "source": [
    "### read in the vermont judges"
   ]
  },
  {
   "cell_type": "code",
   "execution_count": 125,
   "metadata": {},
   "outputs": [],
   "source": [
    "vermont_justices = pd.read_csv('vermont_supreme_court_justices_2000.csv', sep = ',')"
   ]
  },
  {
   "cell_type": "code",
   "execution_count": 126,
   "metadata": {},
   "outputs": [],
   "source": [
    "v_justices_list = list(vermont_justices['Vermont Supreme Court Justices'])"
   ]
  },
  {
   "cell_type": "markdown",
   "metadata": {},
   "source": [
    "### Function to encode judges"
   ]
  },
  {
   "cell_type": "code",
   "execution_count": 127,
   "metadata": {},
   "outputs": [],
   "source": [
    "def check_it(input_str):\n",
    "    if i in input_str:\n",
    "        return 1\n",
    "    return 0\n",
    "# vermont.loc[:, i] = vermont.judges.apply(check_it)"
   ]
  },
  {
   "cell_type": "code",
   "execution_count": 128,
   "metadata": {},
   "outputs": [
    {
     "data": {
      "text/html": [
       "<div>\n",
       "<style scoped>\n",
       "    .dataframe tbody tr th:only-of-type {\n",
       "        vertical-align: middle;\n",
       "    }\n",
       "\n",
       "    .dataframe tbody tr th {\n",
       "        vertical-align: top;\n",
       "    }\n",
       "\n",
       "    .dataframe thead th {\n",
       "        text-align: right;\n",
       "    }\n",
       "</style>\n",
       "<table border=\"1\" class=\"dataframe\">\n",
       "  <thead>\n",
       "    <tr style=\"text-align: right;\">\n",
       "      <th></th>\n",
       "      <th>decision_date</th>\n",
       "      <th>court_name</th>\n",
       "      <th>defendant</th>\n",
       "      <th>defendants_attorneys</th>\n",
       "      <th>judges</th>\n",
       "      <th>jurisdiction_id</th>\n",
       "      <th>plaintiff</th>\n",
       "      <th>plaintiff_attorneys</th>\n",
       "      <th>year</th>\n",
       "      <th>Hayes_flag</th>\n",
       "      <th>Dooley_flag</th>\n",
       "      <th>Mahady_flag</th>\n",
       "      <th>Morse_flag</th>\n",
       "      <th>Johnson_flag</th>\n",
       "      <th>Amestoy_flag</th>\n",
       "      <th>Skoglund_flag</th>\n",
       "      <th>Reiber_flag</th>\n",
       "      <th>Burgess_flag</th>\n",
       "      <th>Robinson_flag</th>\n",
       "      <th>Crawford_flag</th>\n",
       "      <th>Eaton_flag</th>\n",
       "      <th>Carroll_flag</th>\n",
       "    </tr>\n",
       "  </thead>\n",
       "  <tbody>\n",
       "    <tr>\n",
       "      <th>18078</th>\n",
       "      <td>2016-07-17</td>\n",
       "      <td>Vermont Supreme Court</td>\n",
       "      <td>Kolodziej</td>\n",
       "      <td>Amanda T. Rundle and Christopher M. Rundle of ...</td>\n",
       "      <td>['Present: Reiber, CJ., Dooley, Skoglund, Robi...</td>\n",
       "      <td>17</td>\n",
       "      <td>Kirkland</td>\n",
       "      <td>George Anthes and Thomas W. Costello of Costel...</td>\n",
       "      <td>2016</td>\n",
       "      <td>0</td>\n",
       "      <td>1</td>\n",
       "      <td>0</td>\n",
       "      <td>0</td>\n",
       "      <td>0</td>\n",
       "      <td>0</td>\n",
       "      <td>1</td>\n",
       "      <td>1</td>\n",
       "      <td>0</td>\n",
       "      <td>1</td>\n",
       "      <td>0</td>\n",
       "      <td>1</td>\n",
       "      <td>0</td>\n",
       "    </tr>\n",
       "    <tr>\n",
       "      <th>18079</th>\n",
       "      <td>2015-07-17</td>\n",
       "      <td>Vermont Supreme Court</td>\n",
       "      <td>NaN</td>\n",
       "      <td>Miriam W Newman, Lebanon, New Hampshire, for A...</td>\n",
       "      <td>['Present: Reiber, C.J., Dooley, Skoglund and ...</td>\n",
       "      <td>17</td>\n",
       "      <td>In re J.M.</td>\n",
       "      <td>William H. Sorrell, Attorney General, Montpeli...</td>\n",
       "      <td>2015</td>\n",
       "      <td>0</td>\n",
       "      <td>1</td>\n",
       "      <td>0</td>\n",
       "      <td>0</td>\n",
       "      <td>0</td>\n",
       "      <td>0</td>\n",
       "      <td>1</td>\n",
       "      <td>1</td>\n",
       "      <td>1</td>\n",
       "      <td>1</td>\n",
       "      <td>0</td>\n",
       "      <td>0</td>\n",
       "      <td>0</td>\n",
       "    </tr>\n",
       "    <tr>\n",
       "      <th>18077</th>\n",
       "      <td>2015-07-17</td>\n",
       "      <td>Vermont Supreme Court</td>\n",
       "      <td>NaN</td>\n",
       "      <td>Alan R Biederman of Biederman Law Office, and ...</td>\n",
       "      <td>['Present: Dooley, Skoglund, Robinson and Eato...</td>\n",
       "      <td>17</td>\n",
       "      <td>In re North East Materials Group LLC Act 250 J...</td>\n",
       "      <td>Douglas A. Ruley, Environmental and Natural Re...</td>\n",
       "      <td>2015</td>\n",
       "      <td>0</td>\n",
       "      <td>1</td>\n",
       "      <td>0</td>\n",
       "      <td>1</td>\n",
       "      <td>0</td>\n",
       "      <td>0</td>\n",
       "      <td>1</td>\n",
       "      <td>0</td>\n",
       "      <td>0</td>\n",
       "      <td>1</td>\n",
       "      <td>0</td>\n",
       "      <td>1</td>\n",
       "      <td>0</td>\n",
       "    </tr>\n",
       "    <tr>\n",
       "      <th>18076</th>\n",
       "      <td>2015-07-17</td>\n",
       "      <td>Vermont Supreme Court</td>\n",
       "      <td>Provost</td>\n",
       "      <td>Matthew F. Valerio, Defender General, and Josh...</td>\n",
       "      <td>['Present: Reiber, C.J., Dooley, Skogiund, Rob...</td>\n",
       "      <td>17</td>\n",
       "      <td>State</td>\n",
       "      <td>Thomas J. Donovan, Jr., Chittenden County Stat...</td>\n",
       "      <td>2015</td>\n",
       "      <td>0</td>\n",
       "      <td>1</td>\n",
       "      <td>0</td>\n",
       "      <td>0</td>\n",
       "      <td>0</td>\n",
       "      <td>0</td>\n",
       "      <td>0</td>\n",
       "      <td>1</td>\n",
       "      <td>0</td>\n",
       "      <td>1</td>\n",
       "      <td>1</td>\n",
       "      <td>0</td>\n",
       "      <td>0</td>\n",
       "    </tr>\n",
       "    <tr>\n",
       "      <th>18075</th>\n",
       "      <td>2015-07-10</td>\n",
       "      <td>Vermont Supreme Court</td>\n",
       "      <td>Alpert</td>\n",
       "      <td>Jon S. Readnour of Readnour Associates, PC., R...</td>\n",
       "      <td>['Present: Skoglund and Robinson, JJ., and Pea...</td>\n",
       "      <td>17</td>\n",
       "      <td>Arapaho Owners Ass'n, Inc.</td>\n",
       "      <td>Paul S. Gillies of Tarrant, Gillies, Merriman ...</td>\n",
       "      <td>2015</td>\n",
       "      <td>0</td>\n",
       "      <td>0</td>\n",
       "      <td>0</td>\n",
       "      <td>0</td>\n",
       "      <td>0</td>\n",
       "      <td>0</td>\n",
       "      <td>1</td>\n",
       "      <td>0</td>\n",
       "      <td>0</td>\n",
       "      <td>1</td>\n",
       "      <td>0</td>\n",
       "      <td>0</td>\n",
       "      <td>0</td>\n",
       "    </tr>\n",
       "  </tbody>\n",
       "</table>\n",
       "</div>"
      ],
      "text/plain": [
       "      decision_date             court_name  defendant  \\\n",
       "18078    2016-07-17  Vermont Supreme Court  Kolodziej   \n",
       "18079    2015-07-17  Vermont Supreme Court        NaN   \n",
       "18077    2015-07-17  Vermont Supreme Court        NaN   \n",
       "18076    2015-07-17  Vermont Supreme Court    Provost   \n",
       "18075    2015-07-10  Vermont Supreme Court     Alpert   \n",
       "\n",
       "                                    defendants_attorneys  \\\n",
       "18078  Amanda T. Rundle and Christopher M. Rundle of ...   \n",
       "18079  Miriam W Newman, Lebanon, New Hampshire, for A...   \n",
       "18077  Alan R Biederman of Biederman Law Office, and ...   \n",
       "18076  Matthew F. Valerio, Defender General, and Josh...   \n",
       "18075  Jon S. Readnour of Readnour Associates, PC., R...   \n",
       "\n",
       "                                                  judges  jurisdiction_id  \\\n",
       "18078  ['Present: Reiber, CJ., Dooley, Skoglund, Robi...               17   \n",
       "18079  ['Present: Reiber, C.J., Dooley, Skoglund and ...               17   \n",
       "18077  ['Present: Dooley, Skoglund, Robinson and Eato...               17   \n",
       "18076  ['Present: Reiber, C.J., Dooley, Skogiund, Rob...               17   \n",
       "18075  ['Present: Skoglund and Robinson, JJ., and Pea...               17   \n",
       "\n",
       "                                               plaintiff  \\\n",
       "18078                                           Kirkland   \n",
       "18079                                         In re J.M.   \n",
       "18077  In re North East Materials Group LLC Act 250 J...   \n",
       "18076                                              State   \n",
       "18075                         Arapaho Owners Ass'n, Inc.   \n",
       "\n",
       "                                     plaintiff_attorneys  year  Hayes_flag  \\\n",
       "18078  George Anthes and Thomas W. Costello of Costel...  2016           0   \n",
       "18079  William H. Sorrell, Attorney General, Montpeli...  2015           0   \n",
       "18077  Douglas A. Ruley, Environmental and Natural Re...  2015           0   \n",
       "18076  Thomas J. Donovan, Jr., Chittenden County Stat...  2015           0   \n",
       "18075  Paul S. Gillies of Tarrant, Gillies, Merriman ...  2015           0   \n",
       "\n",
       "       Dooley_flag  Mahady_flag  Morse_flag  Johnson_flag  Amestoy_flag  \\\n",
       "18078            1            0           0             0             0   \n",
       "18079            1            0           0             0             0   \n",
       "18077            1            0           1             0             0   \n",
       "18076            1            0           0             0             0   \n",
       "18075            0            0           0             0             0   \n",
       "\n",
       "       Skoglund_flag  Reiber_flag  Burgess_flag  Robinson_flag  Crawford_flag  \\\n",
       "18078              1            1             0              1              0   \n",
       "18079              1            1             1              1              0   \n",
       "18077              1            0             0              1              0   \n",
       "18076              0            1             0              1              1   \n",
       "18075              1            0             0              1              0   \n",
       "\n",
       "       Eaton_flag  Carroll_flag  \n",
       "18078           1             0  \n",
       "18079           0             0  \n",
       "18077           1             0  \n",
       "18076           0             0  \n",
       "18075           0             0  "
      ]
     },
     "execution_count": 128,
     "metadata": {},
     "output_type": "execute_result"
    }
   ],
   "source": [
    "for i in v_justices_list:\n",
    "    vermont.loc[:, i+'_flag'] = vermont.judges.apply(check_it)\n",
    "#     pd.concat([vermont, vermont.loc[:, i+'_flag']], axis=1)\n",
    "    \n",
    "\n",
    "    \n",
    "vermont.head()\n",
    "# df_c = pd.concat([df_a.reset_index(drop=True), df_b], axis=1)"
   ]
  },
  {
   "cell_type": "markdown",
   "metadata": {},
   "source": [
    "### Making fake response"
   ]
  },
  {
   "cell_type": "code",
   "execution_count": 140,
   "metadata": {},
   "outputs": [
    {
     "data": {
      "text/plain": [
       "Counter({0: 991, 1: 1050})"
      ]
     },
     "execution_count": 140,
     "metadata": {},
     "output_type": "execute_result"
    }
   ],
   "source": [
    "import numpy as np\n",
    "from collections import Counter\n",
    "for i in range(len(vermont['decision_date'])):\n",
    "    vermont['win'] = np.random.randint(2,size=len(vermont['decision_date']))\n",
    "vermont\n",
    "\n",
    "Counter(vermont['win'])"
   ]
  },
  {
   "cell_type": "markdown",
   "metadata": {},
   "source": [
    "### Dummy Variables"
   ]
  },
  {
   "cell_type": "code",
   "execution_count": 118,
   "metadata": {},
   "outputs": [],
   "source": [
    "# vermont = pd.get_dummies(vermont, columns=[\"court_name\"], drop_first=False)"
   ]
  },
  {
   "cell_type": "code",
   "execution_count": 141,
   "metadata": {},
   "outputs": [
    {
     "data": {
      "text/plain": [
       "Index(['decision_date', 'court_name', 'defendant', 'defendants_attorneys',\n",
       "       'judges', 'jurisdiction_id', 'plaintiff', 'plaintiff_attorneys', 'year',\n",
       "       'Hayes_flag', 'Dooley_flag', 'Mahady_flag', 'Morse_flag',\n",
       "       'Johnson_flag', 'Amestoy_flag', 'Skoglund_flag', 'Reiber_flag',\n",
       "       'Burgess_flag', 'Robinson_flag', 'Crawford_flag', 'Eaton_flag',\n",
       "       'Carroll_flag', 'win'],\n",
       "      dtype='object')"
      ]
     },
     "execution_count": 141,
     "metadata": {},
     "output_type": "execute_result"
    }
   ],
   "source": [
    "vermont.columns"
   ]
  },
  {
   "cell_type": "markdown",
   "metadata": {},
   "source": [
    "### Make X and y"
   ]
  },
  {
   "cell_type": "code",
   "execution_count": 145,
   "metadata": {},
   "outputs": [],
   "source": [
    "X = vermont[['Hayes_flag', 'Dooley_flag', 'Mahady_flag', 'Morse_flag',\n",
    "       'Johnson_flag', 'Amestoy_flag', 'Skoglund_flag', 'Reiber_flag',\n",
    "       'Burgess_flag', 'Robinson_flag', 'Crawford_flag', 'Eaton_flag',\n",
    "       'Carroll_flag']]\n",
    "y = vermont['win']"
   ]
  },
  {
   "cell_type": "code",
   "execution_count": 150,
   "metadata": {},
   "outputs": [
    {
     "name": "stdout",
     "output_type": "stream",
     "text": [
      "Logistic Regression Average Accuracy = 0.502\n",
      "Individual Results: [0.5211726384364821, 0.48859934853420195, 0.5276872964169381, 0.46254071661237783, 0.50814332247557, 0.5309446254071661, 0.495114006514658, 0.5146579804560261, 0.495114006514658, 0.495114006514658, 0.5146579804560261, 0.5146579804560261, 0.48859934853420195, 0.46579804560260585, 0.5439739413680782, 0.48534201954397393, 0.501628664495114, 0.4755700325732899, 0.511400651465798, 0.46905537459283386, 0.4820846905537459, 0.5244299674267101, 0.498371335504886, 0.48534201954397393, 0.46905537459283386, 0.5179153094462541, 0.5244299674267101, 0.50814332247557, 0.48859934853420195, 0.49185667752442996, 0.5179153094462541, 0.511400651465798, 0.5276872964169381, 0.5146579804560261, 0.46905537459283386, 0.4560260586319218, 0.50814332247557, 0.48859934853420195, 0.5342019543973942, 0.5179153094462541, 0.495114006514658, 0.5374592833876222, 0.50814332247557, 0.50814332247557, 0.5244299674267101, 0.4755700325732899, 0.501628664495114, 0.50814332247557, 0.498371335504886, 0.4820846905537459]\n"
     ]
    }
   ],
   "source": [
    "def Average(accuracy_results): \n",
    "    return sum(accuracy_results) / len(accuracy_results) \n",
    "\n",
    "random_seeds = list(np.random.randint(100000, size=50))\n",
    "\n",
    "accuracy_results = []\n",
    "\n",
    "for i in random_seeds:\n",
    "    X_train, X_test, y_train, y_test = train_test_split(X, y, test_size=0.15, random_state=i)\n",
    "    \n",
    "   \n",
    "    logreg = LogisticRegression()\n",
    "    logreg.fit(X_train, y_train)\n",
    "\n",
    "    y_pred = logreg.predict(X_test)\n",
    "    accuracy = accuracy_score(y_test, y_pred)\n",
    "\n",
    "\n",
    "    accuracy_results.append(accuracy)\n",
    "    \n",
    "logistic_average = Average(accuracy_results)    \n",
    "print(\"Logistic Regression Average Accuracy =\", round(logistic_average, 3))\n",
    "print(\"Individual Results:\", accuracy_results)"
   ]
  },
  {
   "cell_type": "markdown",
   "metadata": {},
   "source": [
    "### Ridge"
   ]
  },
  {
   "cell_type": "code",
   "execution_count": 151,
   "metadata": {},
   "outputs": [
    {
     "name": "stdout",
     "output_type": "stream",
     "text": [
      "Logistic Regression Average Accuracy = 0.502\n",
      "Ridge Regression Average Accuracy = 0.504\n",
      "Individual Results: [0.504885993485342, 0.511400651465798, 0.504885993485342, 0.4820846905537459, 0.504885993485342, 0.5309446254071661, 0.48534201954397393, 0.4755700325732899, 0.511400651465798, 0.498371335504886, 0.498371335504886, 0.50814332247557, 0.48534201954397393, 0.48859934853420195, 0.511400651465798, 0.5342019543973942, 0.504885993485342, 0.504885993485342, 0.504885993485342, 0.501628664495114, 0.49185667752442996, 0.49185667752442996, 0.501628664495114, 0.5439739413680782, 0.5667752442996743, 0.4788273615635179, 0.5146579804560261, 0.4820846905537459, 0.498371335504886, 0.5211726384364821, 0.4755700325732899, 0.49185667752442996, 0.5374592833876222, 0.4820846905537459, 0.504885993485342, 0.46579804560260585, 0.50814332247557, 0.501628664495114, 0.5276872964169381, 0.5407166123778502, 0.50814332247557, 0.5244299674267101, 0.48534201954397393, 0.504885993485342, 0.5179153094462541, 0.5439739413680782, 0.5146579804560261, 0.498371335504886, 0.46905537459283386, 0.46905537459283386]\n"
     ]
    }
   ],
   "source": [
    "def Average(accuracy_results): \n",
    "    return sum(accuracy_results) / len(accuracy_results) \n",
    "\n",
    "random_seeds = list(np.random.randint(100000, size=50))\n",
    "\n",
    "accuracy_results = []\n",
    "\n",
    "for i in random_seeds:\n",
    "    X_train, X_test, y_train, y_test = train_test_split(X, y, test_size=0.15, random_state=i)\n",
    "    \n",
    "    ridgereg = RidgeClassifier(alpha=.5)\n",
    "    ridgereg.fit(X_train, y_train) \n",
    "\n",
    "    y_pred = ridgereg.predict(X_test)\n",
    "    accuracy = accuracy_score(y_test, y_pred)\n",
    "    \n",
    "    \n",
    "    accuracy_results.append(accuracy)\n",
    "    \n",
    "ridge_average = Average(accuracy_results)    \n",
    "print(\"Logistic Regression Average Accuracy =\", round(logistic_average, 3))\n",
    "print(\"Ridge Regression Average Accuracy =\", round(ridge_average, 3))\n",
    "print(\"Individual Results:\", accuracy_results)"
   ]
  },
  {
   "cell_type": "markdown",
   "metadata": {},
   "source": [
    "### Random Forest"
   ]
  },
  {
   "cell_type": "code",
   "execution_count": 153,
   "metadata": {},
   "outputs": [
    {
     "name": "stdout",
     "output_type": "stream",
     "text": [
      "Random Forest Average Accuracy = 0.493\n",
      "Logistic Regression Average Accuracy = 0.502\n",
      "Ridge Regression Average Accuracy = 0.504\n"
     ]
    }
   ],
   "source": [
    "import pandas as pd\n",
    "from sklearn import preprocessing\n",
    "\n",
    "def Average(accuracy_results): \n",
    "    return sum(accuracy_results) / len(accuracy_results) \n",
    "\n",
    "random_seeds = list(np.random.randint(100000, size=20))\n",
    "\n",
    "accuracy_results = []\n",
    "\n",
    "for i in random_seeds:\n",
    "    X_train, X_test, y_train, y_test = train_test_split(X, y, test_size=0.2, random_state=i)\n",
    "    \n",
    "   \n",
    "    # Make the random forest classifier\n",
    "    random_forest = RandomForestClassifier(n_estimators = 400, random_state=i, verbose = 0, n_jobs = -1, max_features = 5, max_depth = 10,\n",
    "                                      criterion = 'gini', min_samples_leaf = 3, bootstrap = 'True')\n",
    "\n",
    "\n",
    "    # Train on the training data\n",
    "    random_forest.fit(X_train, y_train)\n",
    "\n",
    "    features = X_train.columns\n",
    "\n",
    "\n",
    "    # Make predictions on the test data\n",
    "    predictions = random_forest.predict(X_test)\n",
    "    \n",
    "    \n",
    "    #accuracy \n",
    "    accuracy = accuracy_score(y_test, predictions)\n",
    "    precision, recall, fscore, support = score(y_test, predictions)\n",
    "    \n",
    " \n",
    "    accuracy_results.append(accuracy)\n",
    "    \n",
    "rf_average = Average(accuracy_results)    \n",
    "print(\"Random Forest Average Accuracy =\", round(rf_average, 3))\n",
    "print(\"Logistic Regression Average Accuracy =\", round(logistic_average, 3))\n",
    "print(\"Ridge Regression Average Accuracy =\", round(ridge_average, 3))"
   ]
  },
  {
   "cell_type": "markdown",
   "metadata": {},
   "source": [
    "### XGBoost"
   ]
  },
  {
   "cell_type": "code",
   "execution_count": 154,
   "metadata": {},
   "outputs": [
    {
     "name": "stdout",
     "output_type": "stream",
     "text": [
      "XGBoost Average Accuracy = 0.498\n",
      "Random Forest Average Accuracy = 0.493\n",
      "Logistic Regression Average Accuracy = 0.502\n",
      "Ridge Regression Average Accuracy = 0.504\n",
      "Individual Results For XGBoost: [0.48534201954397393, 0.4820846905537459, 0.504885993485342, 0.495114006514658, 0.48534201954397393, 0.498371335504886, 0.49185667752442996, 0.50814332247557, 0.504885993485342, 0.46579804560260585, 0.4495114006514658, 0.5179153094462541, 0.5342019543973942, 0.498371335504886, 0.49185667752442996, 0.48859934853420195, 0.5374592833876222, 0.5374592833876222, 0.495114006514658, 0.4820846905537459]\n"
     ]
    }
   ],
   "source": [
    "from xgboost import XGBClassifier\n",
    "import xgboost as xgb\n",
    "\n",
    "def Average(accuracy_results): \n",
    "    return sum(accuracy_results) / len(accuracy_results) \n",
    "\n",
    "random_seeds = list(np.random.randint(100000, size=20))\n",
    "\n",
    "accuracy_results = []\n",
    "\n",
    "for i in random_seeds:\n",
    "    X_train, X_test, y_train, y_test = train_test_split(X, y, test_size=0.15, random_state=i)\n",
    "    \n",
    "    model = XGBClassifier(n_estimators=10, learning_rate=.1,max_depth=7, subsample = .9, seed=i, verbose=0)\n",
    "    model.fit(X_train, y_train)\n",
    "    y_pred = model.predict(X_test)\n",
    "\n",
    "\n",
    "    #accuracy \n",
    "    accuracy = accuracy_score(y_test, y_pred)\n",
    "    precision, recall, fscore, support = score(y_test, y_pred)\n",
    "    \n",
    "    \n",
    "    \n",
    "    accuracy_results.append(accuracy)\n",
    "    \n",
    "XGBoost_average = Average(accuracy_results)    \n",
    "print(\"XGBoost Average Accuracy =\", round(XGBoost_average, 3))\n",
    "print(\"Random Forest Average Accuracy =\", round(rf_average, 3))\n",
    "print(\"Logistic Regression Average Accuracy =\", round(logistic_average, 3))\n",
    "print(\"Ridge Regression Average Accuracy =\", round(ridge_average, 3))\n",
    "print(\"Individual Results For XGBoost:\", accuracy_results)"
   ]
  },
  {
   "cell_type": "markdown",
   "metadata": {},
   "source": [
    "### SVM Grid Search"
   ]
  },
  {
   "cell_type": "code",
   "execution_count": null,
   "metadata": {},
   "outputs": [],
   "source": [
    "from sklearn import svm\n",
    "def svc_param_selection(X_train, y_train, nfolds):\n",
    "    Cs = [0.001, .005, 0.01, 0.1, 0.25, 0.5, 0.75, 1, 1.5, 1.75, 1.8, 2, 2.25, 2.5]\n",
    "    gammas = [.00001, .0001, .00025,.0005, 0.001, 0.005, 0.01, 0.1]\n",
    "    param_grid = {'C': Cs, 'gamma' : gammas}\n",
    "    grid_search = GridSearchCV(svm.SVC(kernel='linear'), param_grid, cv=nfolds)\n",
    "    grid_search.fit(X_train, y_train)\n",
    "    grid_search.best_params_\n",
    "    return grid_search.best_params_\n",
    "\n",
    "svc_param_selection(X_train, y_train, 3)"
   ]
  },
  {
   "cell_type": "markdown",
   "metadata": {},
   "source": [
    "### SVM"
   ]
  },
  {
   "cell_type": "code",
   "execution_count": 155,
   "metadata": {},
   "outputs": [
    {
     "name": "stdout",
     "output_type": "stream",
     "text": [
      "SVM Average Accuracy =  0.517\n",
      "XGBoost Average Accuracy = 0.498\n",
      "Random Forest Average Accuracy = 0.493\n",
      "Logistic Regression Average Accuracy = 0.502\n",
      "Ridge Regression Average Accuracy = 0.504\n",
      "Individual Results For SVM: [0.4820846905537459, 0.5407166123778502, 0.4820846905537459, 0.5374592833876222, 0.5179153094462541, 0.5211726384364821, 0.50814332247557, 0.5179153094462541, 0.5309446254071661, 0.46579804560260585, 0.5570032573289903, 0.498371335504886, 0.5439739413680782, 0.5244299674267101, 0.5635179153094463, 0.5602605863192183, 0.5179153094462541, 0.46905537459283386, 0.4495114006514658, 0.5504885993485342]\n"
     ]
    }
   ],
   "source": [
    "from sklearn import svm\n",
    "from sklearn.model_selection import cross_val_score\n",
    "\n",
    "def Average(accuracy_results): \n",
    "    return sum(accuracy_results) / len(accuracy_results) \n",
    "\n",
    "random_seeds = list(np.random.randint(100000, size=20))\n",
    "\n",
    "accuracy_results = []\n",
    "\n",
    "for i in random_seeds:\n",
    "    X_train, X_test, y_train, y_test = train_test_split(X, y, test_size=0.15, random_state=i)\n",
    "    \n",
    "    clf = svm.SVC(kernel='linear', C=.25, gamma=.00005)\n",
    "    clf.fit(X_train,y_train)\n",
    "    y_pred = clf.predict(X_test)\n",
    "\n",
    "   \n",
    "    #accuracy \n",
    "    accuracy = accuracy_score(y_test, y_pred)\n",
    "    precision, recall, fscore, support = score(y_test, y_pred)\n",
    "\n",
    " \n",
    "    accuracy_results.append(accuracy)\n",
    "    \n",
    "SVM_average = Average(accuracy_results)\n",
    "print(\"SVM Average Accuracy = \", round(SVM_average, 3))\n",
    "print(\"XGBoost Average Accuracy =\", round(XGBoost_average, 3))\n",
    "print(\"Random Forest Average Accuracy =\", round(rf_average, 3))\n",
    "print(\"Logistic Regression Average Accuracy =\", round(logistic_average, 3))\n",
    "print(\"Ridge Regression Average Accuracy =\", round(ridge_average, 3))\n",
    "print(\"Individual Results For SVM:\", accuracy_results)"
   ]
  },
  {
   "cell_type": "markdown",
   "metadata": {},
   "source": [
    "### ANN"
   ]
  },
  {
   "cell_type": "code",
   "execution_count": 158,
   "metadata": {},
   "outputs": [
    {
     "name": "stderr",
     "output_type": "stream",
     "text": [
      "C:\\Users\\Nick\\Anaconda3\\lib\\site-packages\\keras\\callbacks.py:569: RuntimeWarning: Early stopping conditioned on metric `val_loss` which is not available. Available metrics are: loss,acc\n",
      "  (self.monitor, ','.join(list(logs.keys()))), RuntimeWarning\n"
     ]
    },
    {
     "name": "stdout",
     "output_type": "stream",
     "text": [
      "Average ANN Accuracy 50.271\n",
      "List of ANN Accuracy Results: [50.48859932911901, 50.48859936794939, 49.83713366697976]\n",
      "SVM Average Accuracy =  0.517\n",
      "XGBoost Average Accuracy = 0.498\n",
      "Random Forest Average Accuracy = 0.493\n",
      "Logistic Regression Average Accuracy = 0.502\n"
     ]
    }
   ],
   "source": [
    "from sklearn import svm\n",
    "from sklearn.model_selection import cross_val_score\n",
    "\n",
    "def Average(accuracy_results): \n",
    "    return sum(accuracy_results) / len(accuracy_results) \n",
    "\n",
    "random_seeds = list(np.random.randint(100000, size=3))\n",
    "\n",
    "accuracy_results = []\n",
    "\n",
    "basic_accuracy = []\n",
    "\n",
    "for i in random_seeds:\n",
    "    X_train, X_test, y_train, y_test = train_test_split(X, y, test_size=0.15, random_state=i)\n",
    "    \n",
    "    # constructing model\n",
    "    model = Sequential()\n",
    "    model.add(Dense(5, input_dim=13, activation='relu'))\n",
    "    model.add(Dense(3))\n",
    "    model.add(LeakyReLU(alpha = .05))\n",
    "    model.add(Dropout(.1))\n",
    "    model.add(Dense(1, activation='sigmoid'))\n",
    "    \n",
    "    # compile\n",
    "    model.compile(loss= 'binary_crossentropy', optimizer='adam', metrics=['accuracy'])\n",
    "    \n",
    "    # early stopping\n",
    "    es = EarlyStopping(monitor='val_loss', mode='min', verbose=0, patience = 17)\n",
    "    \n",
    "    \n",
    "    history = model.fit(X_train, y_train, epochs=100, batch_size=32, callbacks=[es], verbose=0)\n",
    "    _scores = model.evaluate(X_test, y_test, verbose=0)\n",
    "    accuracy = ( _scores[1]*100)\n",
    "\n",
    "    \n",
    "    accuracy_results.append(accuracy)\n",
    "ANN_average = Average(accuracy_results)    \n",
    "print(\"Average ANN Accuracy\", round(ANN_average, 3))    \n",
    "print(\"List of ANN Accuracy Results:\", accuracy_results)\n",
    "print(\"SVM Average Accuracy = \", round(SVM_average, 3))\n",
    "print(\"XGBoost Average Accuracy =\", round(XGBoost_average, 3))\n",
    "print(\"Random Forest Average Accuracy =\", round(rf_average, 3))\n",
    "print(\"Logistic Regression Average Accuracy =\", round(logistic_average, 3))"
   ]
  }
 ],
 "metadata": {
  "kernelspec": {
   "display_name": "Python 3",
   "language": "python",
   "name": "python3"
  },
  "language_info": {
   "codemirror_mode": {
    "name": "ipython",
    "version": 3
   },
   "file_extension": ".py",
   "mimetype": "text/x-python",
   "name": "python",
   "nbconvert_exporter": "python",
   "pygments_lexer": "ipython3",
   "version": "3.6.4"
  }
 },
 "nbformat": 4,
 "nbformat_minor": 2
}
